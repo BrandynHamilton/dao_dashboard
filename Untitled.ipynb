{
 "cells": [
  {
   "cell_type": "code",
   "execution_count": 7,
   "id": "13c4ef83-5c21-45d7-b685-9bd9b72a68dc",
   "metadata": {},
   "outputs": [
    {
     "name": "stderr",
     "output_type": "stream",
     "text": [
      "2023-12-28 18:28:57.773 No runtime found, using MemoryCacheStorageManager\n"
     ]
    },
    {
     "data": {
      "text/plain": [
       "1434317509"
      ]
     },
     "execution_count": 7,
     "metadata": {},
     "output_type": "execute_result"
    }
   ],
   "source": [
    "import streamlit as st\n",
    "import pandas as pd\n",
    "import numpy as np\n",
    "from scipy.stats import norm\n",
    "import requests\n",
    "\n",
    "@st.cache_data(ttl=86400)\n",
    "def fetch_market_data(api_url, api_key):\n",
    "    params = {'api_key': api_key}  # Add API key as a parameter\n",
    "    response = requests.get(api_url, params=params)\n",
    "    if response.status_code == 200:\n",
    "        data = response.json()\n",
    "        market_value = data['market_data']['market_cap']['usd']\n",
    "        current_price = data['market_data']['current_price']['usd']\n",
    "        supply = data['market_data']['circulating_supply']\n",
    "        return market_value, current_price, supply\n",
    "    else:\n",
    "        print(f\"Failed to retrieve data: {response.status_code}\")\n",
    "        return None, None, None  # Return None for each value if the API call fails\n",
    "\n",
    "# Usage\n",
    "makerapi = \"https://api.coingecko.com/api/v3/coins/maker\"\n",
    "api_key = \"CG-jTsiV2rsyVSHHULoNSWHU493\"\n",
    "market_value, current_price, supply = fetch_market_data(makerapi, api_key)\n",
    "\n"
   ]
  },
  {
   "cell_type": "code",
   "execution_count": 5,
   "id": "b97fa40f-a474-459a-a3a9-febec79f273c",
   "metadata": {},
   "outputs": [
    {
     "data": {
      "text/plain": [
       "0.0527"
      ]
     },
     "execution_count": 5,
     "metadata": {},
     "output_type": "execute_result"
    }
   ],
   "source": [
    "current_risk_free"
   ]
  },
  {
   "cell_type": "code",
   "execution_count": 6,
   "id": "9fd4b95e-ec0f-4c74-8710-d00daa920851",
   "metadata": {},
   "outputs": [
    {
     "data": {
      "text/plain": [
       "1.6790280739186243"
      ]
     },
     "execution_count": 6,
     "metadata": {},
     "output_type": "execute_result"
    }
   ],
   "source": [
    "average_yearly_risk_premium"
   ]
  },
  {
   "cell_type": "code",
   "execution_count": null,
   "id": "9aebad5c-95a7-4af2-8eee-3b43d2c9cb80",
   "metadata": {},
   "outputs": [],
   "source": []
  }
 ],
 "metadata": {
  "kernelspec": {
   "display_name": "Python 3 (ipykernel)",
   "language": "python",
   "name": "python3"
  },
  "language_info": {
   "codemirror_mode": {
    "name": "ipython",
    "version": 3
   },
   "file_extension": ".py",
   "mimetype": "text/x-python",
   "name": "python",
   "nbconvert_exporter": "python",
   "pygments_lexer": "ipython3",
   "version": "3.10.9"
  }
 },
 "nbformat": 4,
 "nbformat_minor": 5
}
