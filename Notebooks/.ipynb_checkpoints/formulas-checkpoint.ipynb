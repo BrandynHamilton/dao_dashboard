{
 "cells": [
  {
   "cell_type": "code",
   "execution_count": 1,
   "id": "53fd6bd0-90bf-4a08-95d4-63233eccbf2a",
   "metadata": {},
   "outputs": [],
   "source": [
    "from sklearn.linear_model import LinearRegression\n"
   ]
  },
  {
   "cell_type": "code",
   "execution_count": 3,
   "id": "5fd99169-027e-4869-bc75-9bbfa242b5aa",
   "metadata": {},
   "outputs": [],
   "source": [
    "def calculate_annual_return(yearly_data):\n",
    "    start_price = yearly_data['price'].iloc[0]\n",
    "    end_price = yearly_data['price'].iloc[-1]\n",
    "    start_date = yearly_data.index[0]\n",
    "    end_date = yearly_data.index[-1]\n",
    "    days = (end_date - start_date).days\n",
    "    years = days / 365.25\n",
    "\n",
    "    if years < 1:\n",
    "        # For partial year, calculate simple return\n",
    "        annual_return = (end_price - start_price) / start_price\n",
    "    else:\n",
    "        # For full year or more, calculate annualized return\n",
    "        annual_return = (end_price / start_price) ** (1 / years) - 1\n",
    "\n",
    "    return annual_return\n"
   ]
  },
  {
   "cell_type": "code",
   "execution_count": 3,
   "id": "2a4a9826-b739-4aaf-86db-5eb7966d40ec",
   "metadata": {},
   "outputs": [],
   "source": [
    "def month_to_quarter(month):\n",
    "    if month <= 3:\n",
    "        return 'Q1'\n",
    "    elif month <= 6:\n",
    "        return 'Q2'\n",
    "    elif month <= 9:\n",
    "        return 'Q3'\n",
    "    else:\n",
    "        return 'Q4'"
   ]
  },
  {
   "cell_type": "code",
   "execution_count": 4,
   "id": "3fceb36c-d29c-4a46-b86d-9625bd86e3be",
   "metadata": {},
   "outputs": [],
   "source": [
    "def calculate_beta(X, Y):\n",
    "    model = LinearRegression()\n",
    "    model.fit(X, Y)\n",
    "    return model.coef_[0]"
   ]
  },
  {
   "cell_type": "code",
   "execution_count": null,
   "id": "1c6ccd48-3ce1-4fb0-94d5-6ca3f88b7ce9",
   "metadata": {},
   "outputs": [],
   "source": []
  }
 ],
 "metadata": {
  "kernelspec": {
   "display_name": "Python 3 (ipykernel)",
   "language": "python",
   "name": "python3"
  },
  "language_info": {
   "codemirror_mode": {
    "name": "ipython",
    "version": 3
   },
   "file_extension": ".py",
   "mimetype": "text/x-python",
   "name": "python",
   "nbconvert_exporter": "python",
   "pygments_lexer": "ipython3",
   "version": "3.10.9"
  }
 },
 "nbformat": 4,
 "nbformat_minor": 5
}
