{
 "cells": [
  {
   "cell_type": "code",
   "execution_count": 14,
   "id": "14682d28-e64b-41e7-ac53-f76896ccd894",
   "metadata": {},
   "outputs": [
    {
     "name": "stdout",
     "output_type": "stream",
     "text": [
      "Requirement already satisfied: import_ipynb in c:\\users\\brand\\anaconda3\\lib\\site-packages (0.1.4)\n",
      "Requirement already satisfied: nbformat in c:\\users\\brand\\anaconda3\\lib\\site-packages (from import_ipynb) (5.7.0)\n",
      "Requirement already satisfied: IPython in c:\\users\\brand\\anaconda3\\lib\\site-packages (from import_ipynb) (8.10.0)\n",
      "Requirement already satisfied: colorama in c:\\users\\brand\\anaconda3\\lib\\site-packages (from IPython->import_ipynb) (0.4.6)\n",
      "Requirement already satisfied: backcall in c:\\users\\brand\\anaconda3\\lib\\site-packages (from IPython->import_ipynb) (0.2.0)\n",
      "Requirement already satisfied: pickleshare in c:\\users\\brand\\anaconda3\\lib\\site-packages (from IPython->import_ipynb) (0.7.5)\n",
      "Requirement already satisfied: matplotlib-inline in c:\\users\\brand\\anaconda3\\lib\\site-packages (from IPython->import_ipynb) (0.1.6)\n",
      "Requirement already satisfied: stack-data in c:\\users\\brand\\anaconda3\\lib\\site-packages (from IPython->import_ipynb) (0.2.0)\n",
      "Requirement already satisfied: pygments>=2.4.0 in c:\\users\\brand\\anaconda3\\lib\\site-packages (from IPython->import_ipynb) (2.11.2)\n",
      "Requirement already satisfied: decorator in c:\\users\\brand\\anaconda3\\lib\\site-packages (from IPython->import_ipynb) (5.1.1)\n",
      "Requirement already satisfied: prompt-toolkit<3.1.0,>=3.0.30 in c:\\users\\brand\\anaconda3\\lib\\site-packages (from IPython->import_ipynb) (3.0.36)\n",
      "Requirement already satisfied: traitlets>=5 in c:\\users\\brand\\anaconda3\\lib\\site-packages (from IPython->import_ipynb) (5.7.1)\n",
      "Requirement already satisfied: jedi>=0.16 in c:\\users\\brand\\anaconda3\\lib\\site-packages (from IPython->import_ipynb) (0.18.1)\n",
      "Requirement already satisfied: jsonschema>=2.6 in c:\\users\\brand\\anaconda3\\lib\\site-packages (from nbformat->import_ipynb) (4.17.3)\n",
      "Requirement already satisfied: jupyter-core in c:\\users\\brand\\anaconda3\\lib\\site-packages (from nbformat->import_ipynb) (5.2.0)\n",
      "Requirement already satisfied: fastjsonschema in c:\\users\\brand\\anaconda3\\lib\\site-packages (from nbformat->import_ipynb) (2.16.2)\n",
      "Requirement already satisfied: parso<0.9.0,>=0.8.0 in c:\\users\\brand\\anaconda3\\lib\\site-packages (from jedi>=0.16->IPython->import_ipynb) (0.8.3)\n",
      "Requirement already satisfied: pyrsistent!=0.17.0,!=0.17.1,!=0.17.2,>=0.14.0 in c:\\users\\brand\\anaconda3\\lib\\site-packages (from jsonschema>=2.6->nbformat->import_ipynb) (0.18.0)\n",
      "Requirement already satisfied: attrs>=17.4.0 in c:\\users\\brand\\anaconda3\\lib\\site-packages (from jsonschema>=2.6->nbformat->import_ipynb) (22.1.0)\n",
      "Requirement already satisfied: wcwidth in c:\\users\\brand\\anaconda3\\lib\\site-packages (from prompt-toolkit<3.1.0,>=3.0.30->IPython->import_ipynb) (0.2.5)\n",
      "Requirement already satisfied: platformdirs>=2.5 in c:\\users\\brand\\anaconda3\\lib\\site-packages (from jupyter-core->nbformat->import_ipynb) (2.5.2)\n",
      "Requirement already satisfied: pywin32>=1.0 in c:\\users\\brand\\anaconda3\\lib\\site-packages (from jupyter-core->nbformat->import_ipynb) (305.1)\n",
      "Requirement already satisfied: pure-eval in c:\\users\\brand\\anaconda3\\lib\\site-packages (from stack-data->IPython->import_ipynb) (0.2.2)\n",
      "Requirement already satisfied: asttokens in c:\\users\\brand\\anaconda3\\lib\\site-packages (from stack-data->IPython->import_ipynb) (2.0.5)\n",
      "Requirement already satisfied: executing in c:\\users\\brand\\anaconda3\\lib\\site-packages (from stack-data->IPython->import_ipynb) (0.8.3)\n",
      "Requirement already satisfied: six in c:\\users\\brand\\anaconda3\\lib\\site-packages (from asttokens->stack-data->IPython->import_ipynb) (1.16.0)\n",
      "Requirement already satisfied: dash in c:\\users\\brand\\anaconda3\\lib\\site-packages (2.14.2)\n",
      "Requirement already satisfied: dash-bootstrap-components in c:\\users\\brand\\anaconda3\\lib\\site-packages (1.5.0)\n",
      "Requirement already satisfied: pandas in c:\\users\\brand\\anaconda3\\lib\\site-packages (1.5.3)\n",
      "Requirement already satisfied: retrying in c:\\users\\brand\\anaconda3\\lib\\site-packages (from dash) (1.3.4)\n",
      "Requirement already satisfied: Werkzeug<3.1 in c:\\users\\brand\\anaconda3\\lib\\site-packages (from dash) (2.2.2)\n",
      "Requirement already satisfied: nest-asyncio in c:\\users\\brand\\anaconda3\\lib\\site-packages (from dash) (1.5.6)\n",
      "Requirement already satisfied: setuptools in c:\\users\\brand\\anaconda3\\lib\\site-packages (from dash) (65.6.3)\n",
      "Requirement already satisfied: ansi2html in c:\\users\\brand\\anaconda3\\lib\\site-packages (from dash) (1.8.0)\n",
      "Requirement already satisfied: Flask<3.1,>=1.0.4 in c:\\users\\brand\\anaconda3\\lib\\site-packages (from dash) (2.2.2)\n",
      "Requirement already satisfied: importlib-metadata in c:\\users\\brand\\anaconda3\\lib\\site-packages (from dash) (4.11.3)\n",
      "Requirement already satisfied: dash-html-components==2.0.0 in c:\\users\\brand\\anaconda3\\lib\\site-packages (from dash) (2.0.0)\n",
      "Requirement already satisfied: typing-extensions>=4.1.1 in c:\\users\\brand\\anaconda3\\lib\\site-packages (from dash) (4.4.0)\n",
      "Requirement already satisfied: plotly>=5.0.0 in c:\\users\\brand\\anaconda3\\lib\\site-packages (from dash) (5.9.0)\n",
      "Requirement already satisfied: dash-table==5.0.0 in c:\\users\\brand\\anaconda3\\lib\\site-packages (from dash) (5.0.0)\n",
      "Requirement already satisfied: dash-core-components==2.0.0 in c:\\users\\brand\\anaconda3\\lib\\site-packages (from dash) (2.0.0)\n",
      "Requirement already satisfied: requests in c:\\users\\brand\\anaconda3\\lib\\site-packages (from dash) (2.31.0)\n",
      "Requirement already satisfied: pytz>=2020.1 in c:\\users\\brand\\anaconda3\\lib\\site-packages (from pandas) (2022.7)\n",
      "Requirement already satisfied: python-dateutil>=2.8.1 in c:\\users\\brand\\anaconda3\\lib\\site-packages (from pandas) (2.8.2)\n",
      "Requirement already satisfied: numpy>=1.21.0 in c:\\users\\brand\\anaconda3\\lib\\site-packages (from pandas) (1.23.5)\n",
      "Requirement already satisfied: Jinja2>=3.0 in c:\\users\\brand\\anaconda3\\lib\\site-packages (from Flask<3.1,>=1.0.4->dash) (3.1.2)\n",
      "Requirement already satisfied: itsdangerous>=2.0 in c:\\users\\brand\\anaconda3\\lib\\site-packages (from Flask<3.1,>=1.0.4->dash) (2.0.1)\n",
      "Requirement already satisfied: click>=8.0 in c:\\users\\brand\\anaconda3\\lib\\site-packages (from Flask<3.1,>=1.0.4->dash) (8.0.4)\n",
      "Requirement already satisfied: tenacity>=6.2.0 in c:\\users\\brand\\anaconda3\\lib\\site-packages (from plotly>=5.0.0->dash) (8.0.1)\n",
      "Requirement already satisfied: six>=1.5 in c:\\users\\brand\\anaconda3\\lib\\site-packages (from python-dateutil>=2.8.1->pandas) (1.16.0)\n",
      "Requirement already satisfied: MarkupSafe>=2.1.1 in c:\\users\\brand\\anaconda3\\lib\\site-packages (from Werkzeug<3.1->dash) (2.1.1)\n",
      "Requirement already satisfied: zipp>=0.5 in c:\\users\\brand\\anaconda3\\lib\\site-packages (from importlib-metadata->dash) (3.11.0)\n",
      "Requirement already satisfied: urllib3<3,>=1.21.1 in c:\\users\\brand\\anaconda3\\lib\\site-packages (from requests->dash) (1.26.14)\n",
      "Requirement already satisfied: certifi>=2017.4.17 in c:\\users\\brand\\anaconda3\\lib\\site-packages (from requests->dash) (2022.12.7)\n",
      "Requirement already satisfied: charset-normalizer<4,>=2 in c:\\users\\brand\\anaconda3\\lib\\site-packages (from requests->dash) (2.0.4)\n",
      "Requirement already satisfied: idna<4,>=2.5 in c:\\users\\brand\\anaconda3\\lib\\site-packages (from requests->dash) (3.4)\n",
      "Requirement already satisfied: colorama in c:\\users\\brand\\anaconda3\\lib\\site-packages (from click>=8.0->Flask<3.1,>=1.0.4->dash) (0.4.6)\n"
     ]
    }
   ],
   "source": [
    "!pip install import_ipynb\n",
    "!pip install dash dash-bootstrap-components pandas\n",
    "\n",
    "import import_ipynb\n",
    "import pandas as pd\n",
    "import requests\n",
    "import numpy as np\n",
    "import seaborn as sns\n",
    "import yfinance as yf\n",
    "sns.set_theme()\n",
    "import dash\n",
    "import dash_core_components as dcc\n",
    "import dash_html_components as html\n",
    "from dash.dependencies import Input, Output\n",
    "# Set the float display format to suppress scientific notation\n",
    "#pd.set_option('display.float_format', lambda x: '%.3f' % x)\n",
    "\n",
    "import apis\n",
    "import makerdao\n",
    "import Lido"
   ]
  },
  {
   "cell_type": "code",
   "execution_count": 15,
   "id": "1a21972a-03de-486d-a590-607299ccc763",
   "metadata": {},
   "outputs": [
    {
     "data": {
      "text/html": [
       "\n",
       "        <iframe\n",
       "            width=\"100%\"\n",
       "            height=\"650\"\n",
       "            src=\"http://127.0.0.1:8050/\"\n",
       "            frameborder=\"0\"\n",
       "            allowfullscreen\n",
       "            \n",
       "        ></iframe>\n",
       "        "
      ],
      "text/plain": [
       "<IPython.lib.display.IFrame at 0x21509aa8700>"
      ]
     },
     "metadata": {},
     "output_type": "display_data"
    }
   ],
   "source": [
    "import dash_html_components as html\n",
    "from makerdao import wacc as mkr_wacc\n",
    "from Lido import wacc as lido_wacc\n",
    "\n",
    "app = dash.Dash(__name__)\n",
    "\n",
    "app.layout = html.Div([\n",
    "    html.H1(\"DAO Dashboard\"),\n",
    "    \n",
    "    html.Div([\n",
    "        html.H2(\"MakerDao WACC\"),\n",
    "        html.P(f\"Value: {mkr_wacc}\")\n",
    "    ]),\n",
    "\n",
    "    html.Div([\n",
    "        html.H2(\"LidoDao WACC\"),\n",
    "        html.P(f\"Value: {lido_wacc[0]}\")\n",
    "    ]),\n",
    "])\n",
    "\n",
    "# Run the app\n",
    "if __name__ == '__main__':\n",
    "    app.run_server(debug=True)\n"
   ]
  },
  {
   "cell_type": "code",
   "execution_count": 16,
   "id": "8ef64884-add5-4a98-b13e-2a511ee55431",
   "metadata": {},
   "outputs": [],
   "source": [
    "@app.callback(\n",
    "    Output('income-statement-graph', 'figure'),\n",
    "    [Input('some-input', 'value')] # Replace 'some-input' with an actual input component ID if needed\n",
    ")\n",
    "def update_income_statement(selected_value):\n",
    "    # Filter or process your income_statement_data based on selected_value\n",
    "    # For simplicity, let's assume we're plotting the entire dataframe\n",
    "\n",
    "    fig = px.bar(income_statement_data, x='Category', y='Value') # Using plotly express for plotting\n",
    "    return fig\n"
   ]
  },
  {
   "cell_type": "code",
   "execution_count": null,
   "id": "0e2a1a17-cad8-4aaa-963b-73822873847f",
   "metadata": {},
   "outputs": [],
   "source": []
  }
 ],
 "metadata": {
  "kernelspec": {
   "display_name": "Python 3 (ipykernel)",
   "language": "python",
   "name": "python3"
  },
  "language_info": {
   "codemirror_mode": {
    "name": "ipython",
    "version": 3
   },
   "file_extension": ".py",
   "mimetype": "text/x-python",
   "name": "python",
   "nbconvert_exporter": "python",
   "pygments_lexer": "ipython3",
   "version": "3.10.9"
  }
 },
 "nbformat": 4,
 "nbformat_minor": 5
}
