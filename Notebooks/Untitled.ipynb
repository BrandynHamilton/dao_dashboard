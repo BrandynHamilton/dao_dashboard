{
 "cells": [
  {
   "cell_type": "code",
   "execution_count": 2,
   "id": "175a308d-eee5-4501-9b4c-bef897baf261",
   "metadata": {},
   "outputs": [
    {
     "ename": "ModuleNotFoundError",
     "evalue": "No module named 'makerdao'",
     "output_type": "error",
     "traceback": [
      "\u001b[1;31m---------------------------------------------------------------------------\u001b[0m",
      "\u001b[1;31mModuleNotFoundError\u001b[0m                       Traceback (most recent call last)",
      "Cell \u001b[1;32mIn[2], line 4\u001b[0m\n\u001b[0;32m      2\u001b[0m \u001b[38;5;28;01mimport\u001b[39;00m \u001b[38;5;21;01mnumpy\u001b[39;00m \u001b[38;5;28;01mas\u001b[39;00m \u001b[38;5;21;01mnp\u001b[39;00m\n\u001b[0;32m      3\u001b[0m \u001b[38;5;28;01mimport\u001b[39;00m \u001b[38;5;21;01mplotly\u001b[39;00m\u001b[38;5;21;01m.\u001b[39;00m\u001b[38;5;21;01mgraph_objs\u001b[39;00m \u001b[38;5;28;01mas\u001b[39;00m \u001b[38;5;21;01mgo\u001b[39;00m\n\u001b[1;32m----> 4\u001b[0m \u001b[38;5;28;01mfrom\u001b[39;00m \u001b[38;5;21;01mmakerdao\u001b[39;00m\u001b[38;5;21;01m.\u001b[39;00m\u001b[38;5;21;01mpy\u001b[39;00m \u001b[38;5;28;01mimport\u001b[39;00m beta \u001b[38;5;28;01mas\u001b[39;00m makerdao_beta, average_yearly_risk_premium, current_risk_free \u001b[38;5;28;01mas\u001b[39;00m risk_free_rate \n\u001b[0;32m      5\u001b[0m \u001b[38;5;28;01mfrom\u001b[39;00m \u001b[38;5;21;01mLido\u001b[39;00m\u001b[38;5;21;01m.\u001b[39;00m\u001b[38;5;21;01mpy\u001b[39;00m \u001b[38;5;28;01mimport\u001b[39;00m beta \u001b[38;5;28;01mas\u001b[39;00m lidodao_beta\n\u001b[0;32m      7\u001b[0m st\u001b[38;5;241m.\u001b[39mtitle(\u001b[38;5;124m'\u001b[39m\u001b[38;5;124mDAO Dashboard\u001b[39m\u001b[38;5;124m'\u001b[39m)\n",
      "\u001b[1;31mModuleNotFoundError\u001b[0m: No module named 'makerdao'"
     ]
    }
   ],
   "source": [
    "import pandas as pd\n",
    "import numpy as np\n",
    "import plotly.graph_objs as go\n",
    "from makerdao.py import beta as makerdao_beta, average_yearly_risk_premium, current_risk_free as risk_free_rate \n",
    "from Lido.py import beta as lidodao_beta\n",
    "\n",
    "st.title('DAO Dashboard')\n",
    "\n",
    "def create_interactive_sml(risk_free_rate, average_yearly_risk_premium, makerdao_beta, lidodao_beta):\n",
    "    betas = np.linspace(0, 1.5, 100)\n",
    "    expected_returns = risk_free_rate + betas * average_yearly_risk_premium\n",
    "\n",
    "    # Create the SML line\n",
    "    sml_line = go.Scatter(x=betas, y=expected_returns, mode='lines', name='SML')\n",
    "\n",
    "    # Add MakerDAO token as a point\n",
    "    makerdao_token = go.Scatter(\n",
    "        x=[makerdao_beta],\n",
    "        y=[risk_free_rate + makerdao_beta * average_yearly_risk_premium],\n",
    "        mode='markers', \n",
    "        marker=dict(color='red'),\n",
    "        name='MakerDAO'\n",
    "    )\n",
    "\n",
    "    # Add LidoDAO token as a point\n",
    "    lidodao_token = go.Scatter(\n",
    "        x=[lidodao_beta],\n",
    "        y=[risk_free_rate + lidodao_beta * average_yearly_risk_premium],\n",
    "        mode='markers', \n",
    "        marker=dict(color='blue'),\n",
    "        name='LidoDAO'\n",
    "    )\n",
    "\n",
    "    # Add Risk-Free Rate line\n",
    "    risk_free_line = go.Scatter(\n",
    "        x=[0, max(betas)], \n",
    "        y=[risk_free_rate, risk_free_rate], \n",
    "        mode='lines', \n",
    "        line=dict(dash='dash', color='green'),\n",
    "        name='Risk-Free Rate'\n",
    "    )\n",
    "\n",
    "    # Layout settings\n",
    "    layout = go.Layout(\n",
    "        title='Security Market Line (SML)',\n",
    "        xaxis=dict(title='Beta (Systematic Risk)'),\n",
    "        yaxis=dict(title='Expected Return'),\n",
    "        showlegend=True\n",
    "    )\n",
    "\n",
    "    fig = go.Figure(data=[sml_line, makerdao_token, lidodao_token, risk_free_line], layout=layout)\n",
    "    return fig\n",
    "\n",
    "# Creating the plot\n",
    "fig = create_interactive_sml(risk_free_rate, average_yearly_risk_premium, makerdao_beta, lidodao_beta)\n",
    "\n",
    "# Display the plot in Streamlit\n",
    "st.plotly_chart(fig)"
   ]
  },
  {
   "cell_type": "code",
   "execution_count": null,
   "id": "2ac5180b-3869-4892-9492-f6dcfce61ddd",
   "metadata": {},
   "outputs": [],
   "source": []
  }
 ],
 "metadata": {
  "kernelspec": {
   "display_name": "Python 3 (ipykernel)",
   "language": "python",
   "name": "python3"
  },
  "language_info": {
   "codemirror_mode": {
    "name": "ipython",
    "version": 3
   },
   "file_extension": ".py",
   "mimetype": "text/x-python",
   "name": "python",
   "nbconvert_exporter": "python",
   "pygments_lexer": "ipython3",
   "version": "3.10.9"
  }
 },
 "nbformat": 4,
 "nbformat_minor": 5
}
