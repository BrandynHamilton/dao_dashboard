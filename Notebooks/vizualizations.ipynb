{
 "cells": [
  {
   "cell_type": "code",
   "execution_count": 1,
   "id": "6e3f7656-e46e-40c4-8b30-d80d38252fdd",
   "metadata": {},
   "outputs": [
    {
     "name": "stdout",
     "output_type": "stream",
     "text": [
      "importing Jupyter notebook from apis.ipynb\n",
      "Requirement already satisfied: yfinance in c:\\users\\brand\\anaconda3\\lib\\site-packages (0.2.31)\n",
      "Requirement already satisfied: appdirs>=1.4.4 in c:\\users\\brand\\anaconda3\\lib\\site-packages (from yfinance) (1.4.4)\n",
      "Requirement already satisfied: beautifulsoup4>=4.11.1 in c:\\users\\brand\\anaconda3\\lib\\site-packages (from yfinance) (4.11.1)\n",
      "Requirement already satisfied: pytz>=2022.5 in c:\\users\\brand\\anaconda3\\lib\\site-packages (from yfinance) (2022.7)\n",
      "Requirement already satisfied: numpy>=1.16.5 in c:\\users\\brand\\anaconda3\\lib\\site-packages (from yfinance) (1.23.5)\n",
      "Requirement already satisfied: html5lib>=1.1 in c:\\users\\brand\\anaconda3\\lib\\site-packages (from yfinance) (1.1)\n",
      "Requirement already satisfied: requests>=2.31 in c:\\users\\brand\\anaconda3\\lib\\site-packages (from yfinance) (2.31.0)\n",
      "Requirement already satisfied: multitasking>=0.0.7 in c:\\users\\brand\\anaconda3\\lib\\site-packages (from yfinance) (0.0.11)\n",
      "Requirement already satisfied: lxml>=4.9.1 in c:\\users\\brand\\anaconda3\\lib\\site-packages (from yfinance) (4.9.1)\n",
      "Requirement already satisfied: frozendict>=2.3.4 in c:\\users\\brand\\anaconda3\\lib\\site-packages (from yfinance) (2.3.8)\n",
      "Requirement already satisfied: pandas>=1.3.0 in c:\\users\\brand\\anaconda3\\lib\\site-packages (from yfinance) (1.5.3)\n",
      "Requirement already satisfied: peewee>=3.16.2 in c:\\users\\brand\\anaconda3\\lib\\site-packages (from yfinance) (3.17.0)\n",
      "Requirement already satisfied: soupsieve>1.2 in c:\\users\\brand\\anaconda3\\lib\\site-packages (from beautifulsoup4>=4.11.1->yfinance) (2.3.2.post1)\n",
      "Requirement already satisfied: webencodings in c:\\users\\brand\\anaconda3\\lib\\site-packages (from html5lib>=1.1->yfinance) (0.5.1)\n",
      "Requirement already satisfied: six>=1.9 in c:\\users\\brand\\anaconda3\\lib\\site-packages (from html5lib>=1.1->yfinance) (1.16.0)\n",
      "Requirement already satisfied: python-dateutil>=2.8.1 in c:\\users\\brand\\anaconda3\\lib\\site-packages (from pandas>=1.3.0->yfinance) (2.8.2)\n",
      "Requirement already satisfied: urllib3<3,>=1.21.1 in c:\\users\\brand\\anaconda3\\lib\\site-packages (from requests>=2.31->yfinance) (1.26.14)\n",
      "Requirement already satisfied: charset-normalizer<4,>=2 in c:\\users\\brand\\anaconda3\\lib\\site-packages (from requests>=2.31->yfinance) (2.0.4)\n",
      "Requirement already satisfied: idna<4,>=2.5 in c:\\users\\brand\\anaconda3\\lib\\site-packages (from requests>=2.31->yfinance) (3.4)\n",
      "Requirement already satisfied: certifi>=2017.4.17 in c:\\users\\brand\\anaconda3\\lib\\site-packages (from requests>=2.31->yfinance) (2022.12.7)\n",
      "        balance          item  normalized                   period\n",
      "0  1.659089e+09  Crypto-Loans    0.306300  2023-09-14 00:00:00.000\n",
      "1  1.090989e+09  Crypto-Loans    1.000000  2020-12-12 00:00:00.000\n",
      "2  1.686338e+09  Crypto-Loans    0.303731  2023-10-08 00:00:00.000\n",
      "3  5.413354e+09  Crypto-Loans    0.595554  2021-12-20 00:00:00.000\n",
      "4  1.369199e+09  Crypto-Loans    0.262546  2023-01-17 00:00:00.000\n"
     ]
    },
    {
     "name": "stderr",
     "output_type": "stream",
     "text": [
      "<string>:17: FutureWarning: The default value of numeric_only in DataFrameGroupBy.sum is deprecated. In a future version, numeric_only will default to False. Either specify numeric_only or select only columns which should be valid for the function.\n"
     ]
    },
    {
     "name": "stdout",
     "output_type": "stream",
     "text": [
      "1215533740 1323.12 918878.020631294\n",
      "<Response [200]>\n",
      "89.99\n",
      "<Response [200]>\n",
      "<Response [200]>\n",
      "                    date        price  daily_returns\n",
      "1    2020-10-22 00:00:00   567.896998       0.028087\n",
      "2    2020-10-23 00:00:00   595.213624       0.048101\n",
      "3    2020-10-24 00:00:00   593.464788      -0.002938\n",
      "4    2020-10-25 00:00:00   600.030640       0.011064\n",
      "5    2020-10-26 00:00:00   583.517833      -0.027520\n",
      "...                  ...          ...            ...\n",
      "1148 2023-12-13 00:00:00  1358.548477      -0.021217\n",
      "1149 2023-12-14 00:00:00  1363.489566       0.003637\n",
      "1150 2023-12-15 00:00:00  1362.537983      -0.000698\n",
      "1151 2023-12-16 00:00:00  1310.860199      -0.037928\n",
      "1152 2023-12-16 18:21:07  1324.527917       0.010427\n",
      "\n",
      "[1152 rows x 3 columns]\n",
      "    collateral  collateral_rank   period       revenues\n",
      "0       WBTC-A                2  2023-12  101226.083032\n",
      "1     WSTETH-B                5  2023-12  732565.585554\n",
      "2        ETH-A                1  2023-12  501162.475916\n",
      "3        ETH-B                4  2023-12  176593.255108\n",
      "4        ETH-C                3  2023-12  696160.819618\n",
      "..         ...              ...      ...            ...\n",
      "228      ETH-A                1  2020-01  435155.467573\n",
      "229     Others               99  2019-12    5191.158747\n",
      "230      ETH-A                1  2019-12  197307.846004\n",
      "231     Others               99  2019-11     748.339730\n",
      "232      ETH-A                1  2019-11   21038.916069\n",
      "\n",
      "[233 rows x 4 columns]\n",
      "<Response [200]>\n",
      "<Response [200]>\n",
      "importing Jupyter notebook from makerdao.ipynb\n"
     ]
    },
    {
     "name": "stderr",
     "output_type": "stream",
     "text": [
      "<string>:11: FutureWarning: The default value of numeric_only in DataFrameGroupBy.mean is deprecated. In a future version, numeric_only will default to False. Either specify numeric_only or select only columns which should be valid for the function.\n"
     ]
    },
    {
     "name": "stdout",
     "output_type": "stream",
     "text": [
      "Requirement already satisfied: import_ipynb in c:\\users\\brand\\anaconda3\\lib\\site-packages (0.1.4)\n",
      "Requirement already satisfied: nbformat in c:\\users\\brand\\anaconda3\\lib\\site-packages (from import_ipynb) (5.7.0)\n",
      "Requirement already satisfied: IPython in c:\\users\\brand\\anaconda3\\lib\\site-packages (from import_ipynb) (8.10.0)\n",
      "Requirement already satisfied: pickleshare in c:\\users\\brand\\anaconda3\\lib\\site-packages (from IPython->import_ipynb) (0.7.5)\n",
      "Requirement already satisfied: traitlets>=5 in c:\\users\\brand\\anaconda3\\lib\\site-packages (from IPython->import_ipynb) (5.7.1)\n",
      "Requirement already satisfied: colorama in c:\\users\\brand\\anaconda3\\lib\\site-packages (from IPython->import_ipynb) (0.4.6)\n",
      "Requirement already satisfied: stack-data in c:\\users\\brand\\anaconda3\\lib\\site-packages (from IPython->import_ipynb) (0.2.0)\n",
      "Requirement already satisfied: pygments>=2.4.0 in c:\\users\\brand\\anaconda3\\lib\\site-packages (from IPython->import_ipynb) (2.17.2)\n",
      "Requirement already satisfied: backcall in c:\\users\\brand\\anaconda3\\lib\\site-packages (from IPython->import_ipynb) (0.2.0)\n",
      "Requirement already satisfied: jedi>=0.16 in c:\\users\\brand\\anaconda3\\lib\\site-packages (from IPython->import_ipynb) (0.18.1)\n",
      "Requirement already satisfied: decorator in c:\\users\\brand\\anaconda3\\lib\\site-packages (from IPython->import_ipynb) (5.1.1)\n",
      "Requirement already satisfied: prompt-toolkit<3.1.0,>=3.0.30 in c:\\users\\brand\\anaconda3\\lib\\site-packages (from IPython->import_ipynb) (3.0.36)\n",
      "Requirement already satisfied: matplotlib-inline in c:\\users\\brand\\anaconda3\\lib\\site-packages (from IPython->import_ipynb) (0.1.6)\n",
      "Requirement already satisfied: jupyter-core in c:\\users\\brand\\anaconda3\\lib\\site-packages (from nbformat->import_ipynb) (5.2.0)\n",
      "Requirement already satisfied: jsonschema>=2.6 in c:\\users\\brand\\anaconda3\\lib\\site-packages (from nbformat->import_ipynb) (4.17.3)\n",
      "Requirement already satisfied: fastjsonschema in c:\\users\\brand\\anaconda3\\lib\\site-packages (from nbformat->import_ipynb) (2.16.2)\n",
      "Requirement already satisfied: parso<0.9.0,>=0.8.0 in c:\\users\\brand\\anaconda3\\lib\\site-packages (from jedi>=0.16->IPython->import_ipynb) (0.8.3)\n",
      "Requirement already satisfied: attrs>=17.4.0 in c:\\users\\brand\\anaconda3\\lib\\site-packages (from jsonschema>=2.6->nbformat->import_ipynb) (22.1.0)\n",
      "Requirement already satisfied: pyrsistent!=0.17.0,!=0.17.1,!=0.17.2,>=0.14.0 in c:\\users\\brand\\anaconda3\\lib\\site-packages (from jsonschema>=2.6->nbformat->import_ipynb) (0.18.0)\n",
      "Requirement already satisfied: wcwidth in c:\\users\\brand\\anaconda3\\lib\\site-packages (from prompt-toolkit<3.1.0,>=3.0.30->IPython->import_ipynb) (0.2.5)\n",
      "Requirement already satisfied: platformdirs>=2.5 in c:\\users\\brand\\anaconda3\\lib\\site-packages (from jupyter-core->nbformat->import_ipynb) (2.5.2)\n",
      "Requirement already satisfied: pywin32>=1.0 in c:\\users\\brand\\anaconda3\\lib\\site-packages (from jupyter-core->nbformat->import_ipynb) (305.1)\n",
      "Requirement already satisfied: asttokens in c:\\users\\brand\\anaconda3\\lib\\site-packages (from stack-data->IPython->import_ipynb) (2.0.5)\n",
      "Requirement already satisfied: pure-eval in c:\\users\\brand\\anaconda3\\lib\\site-packages (from stack-data->IPython->import_ipynb) (0.2.2)\n",
      "Requirement already satisfied: executing in c:\\users\\brand\\anaconda3\\lib\\site-packages (from stack-data->IPython->import_ipynb) (0.8.3)\n",
      "Requirement already satisfied: six in c:\\users\\brand\\anaconda3\\lib\\site-packages (from asttokens->stack-data->IPython->import_ipynb) (1.16.0)\n",
      "importing Jupyter notebook from formulas.ipynb\n"
     ]
    },
    {
     "name": "stderr",
     "output_type": "stream",
     "text": [
      "<string>:1: FutureWarning: The default value of numeric_only in DataFrameGroupBy.sum is deprecated. In a future version, numeric_only will default to False. Either specify numeric_only or select only columns which should be valid for the function.\n",
      "<string>:1: FutureWarning: The default value of numeric_only in DataFrameGroupBy.sum is deprecated. In a future version, numeric_only will default to False. Either specify numeric_only or select only columns which should be valid for the function.\n",
      "<string>:2: FutureWarning: The default value of numeric_only in DataFrameGroupBy.sum is deprecated. In a future version, numeric_only will default to False. Either specify numeric_only or select only columns which should be valid for the function.\n",
      "<string>:3: FutureWarning: The default value of numeric_only in DataFrameGroupBy.sum is deprecated. In a future version, numeric_only will default to False. Either specify numeric_only or select only columns which should be valid for the function.\n",
      "<string>:4: FutureWarning: The default value of numeric_only in DataFrameGroupBy.sum is deprecated. In a future version, numeric_only will default to False. Either specify numeric_only or select only columns which should be valid for the function.\n",
      "<string>:5: FutureWarning: The default value of numeric_only in DataFrameGroupBy.sum is deprecated. In a future version, numeric_only will default to False. Either specify numeric_only or select only columns which should be valid for the function.\n",
      "<string>:6: FutureWarning: The default value of numeric_only in DataFrameGroupBy.sum is deprecated. In a future version, numeric_only will default to False. Either specify numeric_only or select only columns which should be valid for the function.\n",
      "<string>:7: FutureWarning: The default value of numeric_only in DataFrameGroupBy.sum is deprecated. In a future version, numeric_only will default to False. Either specify numeric_only or select only columns which should be valid for the function.\n"
     ]
    },
    {
     "name": "stdout",
     "output_type": "stream",
     "text": [
      "['Crypto-Loans' 'Real-World Assets' 'Stablecoins' 'Others assets' 'DSR'\n",
      " 'DAI' 'Equity']\n",
      "5262031792.398053 -5207965394.912786 -54066397.485258944\n",
      "22.486903940458735\n",
      "73.41301224574592\n",
      "18.022962953364864\n",
      "1.230143051025797\n",
      "0.0126394909389515\n",
      "96.3253635741631\n",
      "0.9897251860843227\n",
      "['Crypto-Loans' 'Real-World Assets' 'Stablecoins' 'Others assets' 'DSR'\n",
      " 'DAI' 'Equity']\n",
      "0.5181352461211539\n",
      "0.47294580905773215\n",
      "8.643613696458203\n",
      "-2509534963.229197\n",
      "0.7482248720318078\n"
     ]
    },
    {
     "ename": "AttributeError",
     "evalue": "'RangeIndex' object has no attribute 'year'",
     "output_type": "error",
     "traceback": [
      "\u001b[1;31m---------------------------------------------------------------------------\u001b[0m",
      "\u001b[1;31mAttributeError\u001b[0m                            Traceback (most recent call last)",
      "Cell \u001b[1;32mIn[1], line 16\u001b[0m\n\u001b[0;32m     13\u001b[0m sns\u001b[38;5;241m.\u001b[39mset(style\u001b[38;5;241m=\u001b[39m\u001b[38;5;124m'\u001b[39m\u001b[38;5;124mwhitegrid\u001b[39m\u001b[38;5;124m'\u001b[39m)\n\u001b[0;32m     15\u001b[0m \u001b[38;5;28;01mimport\u001b[39;00m \u001b[38;5;21;01mapis\u001b[39;00m\n\u001b[1;32m---> 16\u001b[0m \u001b[38;5;28;01mimport\u001b[39;00m \u001b[38;5;21;01mmakerdao\u001b[39;00m\n\u001b[0;32m     17\u001b[0m \u001b[38;5;28;01mimport\u001b[39;00m \u001b[38;5;21;01mLido\u001b[39;00m\n",
      "File \u001b[1;32m<frozen importlib._bootstrap>:1027\u001b[0m, in \u001b[0;36m_find_and_load\u001b[1;34m(name, import_)\u001b[0m\n",
      "File \u001b[1;32m<frozen importlib._bootstrap>:1006\u001b[0m, in \u001b[0;36m_find_and_load_unlocked\u001b[1;34m(name, import_)\u001b[0m\n",
      "File \u001b[1;32m<frozen importlib._bootstrap>:672\u001b[0m, in \u001b[0;36m_load_unlocked\u001b[1;34m(spec)\u001b[0m\n",
      "File \u001b[1;32m<frozen importlib._bootstrap>:632\u001b[0m, in \u001b[0;36m_load_backward_compatible\u001b[1;34m(spec)\u001b[0m\n",
      "File \u001b[1;32m~\\anaconda3\\lib\\site-packages\\import_ipynb.py:61\u001b[0m, in \u001b[0;36mNotebookLoader.load_module\u001b[1;34m(self, fullname)\u001b[0m\n\u001b[0;32m     59\u001b[0m         code \u001b[38;5;241m=\u001b[39m \u001b[38;5;28mself\u001b[39m\u001b[38;5;241m.\u001b[39mshell\u001b[38;5;241m.\u001b[39minput_transformer_manager\u001b[38;5;241m.\u001b[39mtransform_cell(cell\u001b[38;5;241m.\u001b[39msource)\n\u001b[0;32m     60\u001b[0m         \u001b[38;5;66;03m# run the code in themodule\u001b[39;00m\n\u001b[1;32m---> 61\u001b[0m         \u001b[43mexec\u001b[49m\u001b[43m(\u001b[49m\u001b[43mcode\u001b[49m\u001b[43m,\u001b[49m\u001b[43m \u001b[49m\u001b[43mmod\u001b[49m\u001b[38;5;241;43m.\u001b[39;49m\u001b[38;5;18;43m__dict__\u001b[39;49m\u001b[43m)\u001b[49m\n\u001b[0;32m     62\u001b[0m \u001b[38;5;28;01mfinally\u001b[39;00m:\n\u001b[0;32m     63\u001b[0m     \u001b[38;5;28mself\u001b[39m\u001b[38;5;241m.\u001b[39mshell\u001b[38;5;241m.\u001b[39muser_ns \u001b[38;5;241m=\u001b[39m save_user_ns\n",
      "File \u001b[1;32m<string>:8\u001b[0m\n",
      "\u001b[1;31mAttributeError\u001b[0m: 'RangeIndex' object has no attribute 'year'"
     ]
    }
   ],
   "source": [
    "import import_ipynb\n",
    "import pandas as pd\n",
    "import requests\n",
    "import numpy as np\n",
    "import yfinance as yf\n",
    "import matplotlib as mpl\n",
    "import matplotlib.pyplot as plt\n",
    "import seaborn as sns\n",
    "\n",
    "# Plotting options\n",
    "%matplotlib inline\n",
    "mpl.style.use('ggplot')\n",
    "sns.set(style='whitegrid')\n",
    "\n",
    "import apis\n",
    "import makerdao\n",
    "import Lido\n"
   ]
  },
  {
   "cell_type": "code",
   "execution_count": null,
   "id": "e01bd450-ffcb-48bc-b9cf-2b23e5af5c13",
   "metadata": {},
   "outputs": [],
   "source": [
    "import matplotlib.pyplot as plt\n",
    "from makerdao import *\n",
    "\n",
    "data = [assets, abs(liabilities), abs(equity)]\n",
    "\n",
    "labels = ['Assets', 'Liabilities', 'Eqity']\n",
    "\n",
    "plt.pie(data, labels=labels, autopct='%1.1f%%')\n",
    "\n",
    "plt.show"
   ]
  },
  {
   "cell_type": "code",
   "execution_count": null,
   "id": "49cbcb8d-15be-4367-8cca-7fe4243251dd",
   "metadata": {},
   "outputs": [],
   "source": [
    "import matplotlib.pyplot as plt\n",
    "import matplotlib.ticker as ticker\n",
    "import seaborn as sns\n",
    "import pandas as pd\n",
    "import numpy as np\n",
    "\n",
    "# Seaborn style setting\n",
    "sns.set(style=\"white\")\n",
    "\n",
    "# Creating the plot\n",
    "plt.figure(figsize=(10, 6))\n",
    "plt.plot(assetsdf.index, assetsdf['balance'], color='royalblue', linewidth=2)\n",
    "plt.plot(liabilitiesdf.index, abs(liabilitiesdf['balance']), color='red', linewidth=2)\n",
    "\n",
    "# Remove gridlines\n",
    "plt.grid(False)\n",
    "\n",
    "# Formatting the y-axis\n",
    "plt.gca().yaxis.set_major_formatter(ticker.StrMethodFormatter(\"{x:,.0f}\"))\n",
    "\n",
    "# Rotating the x-axis labels for better readability\n",
    "plt.xticks(rotation=45)\n",
    "\n",
    "# Adding title and labels\n",
    "plt.title(\"Value of Assets Over Time\", fontsize=16)\n",
    "plt.xlabel(\"Date\", fontsize=12)\n",
    "plt.ylabel(\"Balance\", fontsize=12)\n",
    "\n",
    "# Removing the top and right spines for a clean look\n",
    "sns.despine()\n",
    "\n",
    "# Show the plot\n",
    "plt.show()"
   ]
  },
  {
   "cell_type": "code",
   "execution_count": null,
   "id": "a576b6f4-d6b2-400d-9d3b-d13c8df2d413",
   "metadata": {},
   "outputs": [],
   "source": [
    "plt.plot(abs(liabilitiesdf))\n",
    "plt.gca().yaxis.set_major_formatter(ticker.StrMethodFormatter(\"{x:,.0f}\"))"
   ]
  },
  {
   "cell_type": "code",
   "execution_count": null,
   "id": "167b8581-70b3-493e-a86c-61676694b61a",
   "metadata": {},
   "outputs": [],
   "source": [
    "plt.gca().ticklabel_format(style='plain', axis='both', useOffset=False, useLocale=False)\n",
    "\n",
    "plt.plot(abs(equitydf))"
   ]
  },
  {
   "cell_type": "code",
   "execution_count": null,
   "id": "d567a6f7-88bc-4ce6-a2bc-c972d89e3ba9",
   "metadata": {},
   "outputs": [],
   "source": [
    "plt.plot(tbill_decimals['value'])\n"
   ]
  },
  {
   "cell_type": "code",
   "execution_count": null,
   "id": "76620f21-24c2-4df3-95cc-6f8685e463a0",
   "metadata": {},
   "outputs": [],
   "source": [
    "plt.gca().ticklabel_format(style='plain', axis='both', useOffset=False, useLocale=False)\n",
    "\n",
    "plt.plot(monthly_stats['net_income'].iloc[:-1])"
   ]
  },
  {
   "cell_type": "code",
   "execution_count": null,
   "id": "f083eefa-ab42-49d1-ab11-af174d196c58",
   "metadata": {},
   "outputs": [],
   "source": [
    "BTC = yf.Ticker(\"BTC-USD\")\n",
    "\n",
    "# get all stock infov\n",
    "BTC_history = BTC.history(period='max', interval='1mo')\n",
    "\n",
    "BTC_history.index = pd.to_datetime(BTC_history.index)\n",
    "\n",
    "filtered_BTC_history = BTC_history[(BTC_history.index >= \"2019-12\") & (BTC_history.index < \"2023-11\")]\n",
    "\n",
    "filtered_BTC_history.tail()\n",
    "\n",
    "formatbtc = filtered_BTC_history\n",
    "\n",
    "formatbtc.shape\n",
    "monthly_stats['lending_income'].shape\n",
    "\n",
    "formatbtc"
   ]
  },
  {
   "cell_type": "code",
   "execution_count": null,
   "id": "a0b578bf-e777-457f-a5c4-c4b1858e8a3a",
   "metadata": {},
   "outputs": [],
   "source": [
    "filtered_income = monthly_stats[(monthly_stats.index >= '2019-12-01') & (monthly_stats.index <= '2023-10-01')]\n",
    "\n"
   ]
  },
  {
   "cell_type": "code",
   "execution_count": null,
   "id": "ab014182-74a0-4e90-9eb6-38750cd0ff45",
   "metadata": {},
   "outputs": [],
   "source": [
    "plt.plot(formatbtc['Close'])"
   ]
  },
  {
   "cell_type": "code",
   "execution_count": null,
   "id": "a8de71c1-2108-4d53-a8e6-f2edf8c0f182",
   "metadata": {},
   "outputs": [],
   "source": [
    "import matplotlib.pyplot as plt\n",
    "\n",
    "# Assuming 'monthly_stats' and 'tbill_decimals' are defined DataFrames\n",
    "\n",
    "# Set the tick label format for the current axis\n",
    "plt.gca().ticklabel_format(style='plain', axis='both', useOffset=False, useLocale=False)\n",
    "\n",
    "# Plot the first three datasets against the primary y-axis\n",
    "line1, = plt.plot(filtered_income['lending_income'], label='Lending Income')\n",
    "line2, = plt.plot(filtered_income['net_income'], label='Net Income')\n",
    "\n",
    "# Create and label the secondary y-axis for the tbill_decimals\n",
    "ax2 = plt.gca().twinx()\n",
    "line3, = ax2.plot(tbill_decimals['value'], 'r-', label='Risk-Free Rate')\n",
    "ax2.set_ylabel('Risk-Free Rate', color='r')\n",
    "\n",
    "# Make the x-ticks rotated for better readability\n",
    "plt.xticks(rotation=45)\n",
    "\n",
    "# Manually create the legend\n",
    "plt.legend([line1, line2, line3, line4], ['Lending Income', 'Net Income', 'Risk-Free Rate'])\n",
    "\n",
    "# Optionally, you can set the legend location explicitly\n",
    "# plt.legend([line1, line2, line3], ['Lending Income', 'Net Income', 'Risk-Free Rate'], loc='best')\n",
    "\n",
    "# Save the figure\n",
    "plt.savefig('mkrstmt')\n",
    "\n",
    "# Show the plot\n",
    "plt.show()\n"
   ]
  },
  {
   "cell_type": "code",
   "execution_count": null,
   "id": "20dbd30a-2149-4336-ba28-f24845c65ab7",
   "metadata": {},
   "outputs": [],
   "source": [
    "import matplotlib.pyplot as plt\n",
    "\n",
    "# Assuming 'monthly_stats' and 'tbill_decimals' are defined DataFrames\n",
    "\n",
    "# Set the tick label format for the current axis\n",
    "plt.gca().ticklabel_format(style='plain', axis='both', useOffset=False, useLocale=False)\n",
    "\n",
    "# Plot the first three datasets against the primary y-axis\n",
    "line5, = plt.plot(filtered_income['lending_income'], label='Lending Income')\n",
    "line6, = plt.plot(filtered_income['net_income'], label='Net Income')\n",
    "\n",
    "# Create and label the secondary y-axis for the tbill_decimals\n",
    "ax2 = plt.gca().twinx()\n",
    "line7, = plt.plot(formatbtc['Close'], label='BTC Price (USD)', color='red')\n",
    "ax2.set_ylabel('BTC Price', color='b')\n",
    "\n",
    "# Make the x-ticks rotated for better readability\n",
    "plt.xticks(rotation=45)\n",
    "\n",
    "# Manually create the legend\n",
    "plt.legend([line5, line6, line7], ['Lending Income', 'Net Income','BTC Price'])\n",
    "\n",
    "# Optionally, you can set the legend location explicitly\n",
    "# plt.legend([line1, line2, line3], ['Lending Income', 'Net Income', 'Risk-Free Rate'], loc='best')\n",
    "\n",
    "# Save the figure\n",
    "plt.savefig('mkrstmt')\n",
    "\n",
    "# Show the plot\n",
    "plt.show()\n"
   ]
  },
  {
   "cell_type": "code",
   "execution_count": null,
   "id": "8a4815f1-d1eb-4d47-add3-b1d23a426534",
   "metadata": {},
   "outputs": [],
   "source": [
    "import matplotlib.pyplot as plt\n",
    "\n",
    "# Assuming 'monthly_stats' and 'tbill_decimals' are defined DataFrames\n",
    "\n",
    "# Set the tick label format for the current axis\n",
    "plt.gca().ticklabel_format(style='plain', axis='both', useOffset=False, useLocale=False)\n",
    "\n",
    "# Plot the first three datasets against the primary y-axis\n",
    "line1, = plt.plot(monthly_stats['lending_income'], label='Lending Income')\n",
    "line2, = plt.plot(monthly_stats['net_income'], label='Net Income')\n",
    "\n",
    "\n",
    "# Create and label the secondary y-axis for the tbill_decimals\n",
    "ax2 = plt.gca().twinx()\n",
    "line3, = ax2.plot(tbill_decimals['value'], 'r-', label='Risk-Free Rate')\n",
    "ax2.set_ylabel('Risk-Free Rate', color='r')\n",
    "\n",
    "# Make the x-ticks rotated for better readability\n",
    "plt.xticks(rotation=45)\n",
    "\n",
    "# Manually create the legend\n",
    "plt.legend([line1, line2, line3], ['Lending Income', 'Net Income', 'Risk-Free Rate'])\n",
    "\n",
    "# Optionally, you can set the legend location explicitly\n",
    "# plt.legend([line1, line2, line3], ['Lending Income', 'Net Income', 'Risk-Free Rate'], loc='best')\n",
    "\n",
    "# Save the figure\n",
    "plt.savefig('mkrstmt')\n",
    "\n",
    "# Show the plot\n",
    "plt.show()\n"
   ]
  },
  {
   "cell_type": "code",
   "execution_count": null,
   "id": "2e66644a-d759-4bdb-848a-2c3f66870a96",
   "metadata": {},
   "outputs": [],
   "source": [
    "tbill_timeseries['value'].plot()"
   ]
  },
  {
   "cell_type": "code",
   "execution_count": null,
   "id": "7c33538e-b85c-4af7-a4e4-945b89b10d0f",
   "metadata": {},
   "outputs": [],
   "source": []
  },
  {
   "cell_type": "code",
   "execution_count": null,
   "id": "a6aba930-ff79-43cb-987e-ed7eafc518ff",
   "metadata": {},
   "outputs": [],
   "source": []
  },
  {
   "cell_type": "code",
   "execution_count": null,
   "id": "22349d61-5865-46f1-8317-b35bdc7eb214",
   "metadata": {},
   "outputs": [],
   "source": []
  },
  {
   "cell_type": "code",
   "execution_count": null,
   "id": "8ba9802a-4c4c-477b-8068-0fc132701e4d",
   "metadata": {},
   "outputs": [],
   "source": []
  },
  {
   "cell_type": "code",
   "execution_count": null,
   "id": "4809744a-8059-4579-8558-bfc9f19f3cbf",
   "metadata": {},
   "outputs": [],
   "source": []
  }
 ],
 "metadata": {
  "kernelspec": {
   "display_name": "Python 3 (ipykernel)",
   "language": "python",
   "name": "python3"
  },
  "language_info": {
   "codemirror_mode": {
    "name": "ipython",
    "version": 3
   },
   "file_extension": ".py",
   "mimetype": "text/x-python",
   "name": "python",
   "nbconvert_exporter": "python",
   "pygments_lexer": "ipython3",
   "version": "3.10.9"
  }
 },
 "nbformat": 4,
 "nbformat_minor": 5
}
