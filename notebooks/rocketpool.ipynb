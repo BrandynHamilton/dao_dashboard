{
 "cells": [
  {
   "cell_type": "code",
   "execution_count": 2,
   "id": "0d8b29cb-ccb7-4f73-846b-d198e4c71a73",
   "metadata": {},
   "outputs": [],
   "source": [
    "import requests\n",
    "import pandas as pd\n",
    "import numpy as np\n"
   ]
  },
  {
   "cell_type": "code",
   "execution_count": 22,
   "id": "2ab220a9-e4d2-4851-bac0-2d2062400fc9",
   "metadata": {},
   "outputs": [],
   "source": [
    "rpl_assets_url = 'https://api.dune.com/api/v1/query/2387291/results?api_key=Vti1XpoLF3ulDjZuSbyLXblt4I1JGoVu'\n",
    "response = requests.get(rpl_assets_url)"
   ]
  },
  {
   "cell_type": "code",
   "execution_count": 25,
   "id": "bd2a1492-4b77-4914-a3af-7d6f8764f620",
   "metadata": {},
   "outputs": [
    {
     "data": {
      "text/plain": [
       "{'error': 'This api request would exceed your configured limits per billing cycle. Please visit your settings on dune.com and adjust your limits to continue usage.'}"
      ]
     },
     "execution_count": 25,
     "metadata": {},
     "output_type": "execute_result"
    }
   ],
   "source": [
    "data = response.json()\n",
    "data"
   ]
  },
  {
   "cell_type": "code",
   "execution_count": 24,
   "id": "ae79c23d-3083-4549-b434-f196461deca2",
   "metadata": {},
   "outputs": [
    {
     "ename": "KeyError",
     "evalue": "'result'",
     "output_type": "error",
     "traceback": [
      "\u001b[1;31m---------------------------------------------------------------------------\u001b[0m",
      "\u001b[1;31mKeyError\u001b[0m                                  Traceback (most recent call last)",
      "Cell \u001b[1;32mIn[24], line 1\u001b[0m\n\u001b[1;32m----> 1\u001b[0m data_useful \u001b[38;5;241m=\u001b[39m pd\u001b[38;5;241m.\u001b[39mDataFrame(data[\u001b[38;5;124m'\u001b[39m\u001b[38;5;124mresult\u001b[39m\u001b[38;5;124m'\u001b[39m][\u001b[38;5;124m'\u001b[39m\u001b[38;5;124mrows\u001b[39m\u001b[38;5;124m'\u001b[39m])\n",
      "\u001b[1;31mKeyError\u001b[0m: 'result'"
     ]
    }
   ],
   "source": [
    "data_useful = pd.DataFrame(data['result']['rows'])"
   ]
  },
  {
   "cell_type": "code",
   "execution_count": 18,
   "id": "2c03824b-da28-4eb5-85e7-e3cb2eff912f",
   "metadata": {},
   "outputs": [],
   "source": [
    "data_useful['day'] = pd.to_datetime(data_useful['day'])"
   ]
  },
  {
   "cell_type": "code",
   "execution_count": 19,
   "id": "c70f2bb2-a762-437c-b9b8-e8bb8ece6b43",
   "metadata": {},
   "outputs": [],
   "source": [
    "data_useful.set_index('day', inplace=True)"
   ]
  },
  {
   "cell_type": "code",
   "execution_count": 21,
   "id": "2765f6c0-fc13-482d-af7e-171694bf2c04",
   "metadata": {},
   "outputs": [
    {
     "data": {
      "text/html": [
       "<div>\n",
       "<style scoped>\n",
       "    .dataframe tbody tr th:only-of-type {\n",
       "        vertical-align: middle;\n",
       "    }\n",
       "\n",
       "    .dataframe tbody tr th {\n",
       "        vertical-align: top;\n",
       "    }\n",
       "\n",
       "    .dataframe thead th {\n",
       "        text-align: right;\n",
       "    }\n",
       "</style>\n",
       "<table border=\"1\" class=\"dataframe\">\n",
       "  <thead>\n",
       "    <tr style=\"text-align: right;\">\n",
       "      <th></th>\n",
       "      <th>cumu_node</th>\n",
       "      <th>cumu_node_usd</th>\n",
       "      <th>cumu_rpl</th>\n",
       "      <th>cumu_rpl_usd</th>\n",
       "      <th>node_usd</th>\n",
       "      <th>rpl_usd</th>\n",
       "    </tr>\n",
       "    <tr>\n",
       "      <th>day</th>\n",
       "      <th></th>\n",
       "      <th></th>\n",
       "      <th></th>\n",
       "      <th></th>\n",
       "      <th></th>\n",
       "      <th></th>\n",
       "    </tr>\n",
       "  </thead>\n",
       "  <tbody>\n",
       "    <tr>\n",
       "      <th>2021-11-01 00:00:00+00:00</th>\n",
       "      <td>0.078462</td>\n",
       "      <td>3.519903e+02</td>\n",
       "      <td>0.013846</td>\n",
       "      <td>6.211594e+01</td>\n",
       "      <td>351.990308</td>\n",
       "      <td>62.115937</td>\n",
       "    </tr>\n",
       "    <tr>\n",
       "      <th>2021-11-08 00:00:00+00:00</th>\n",
       "      <td>0.941538</td>\n",
       "      <td>4.410738e+03</td>\n",
       "      <td>0.166154</td>\n",
       "      <td>7.783655e+02</td>\n",
       "      <td>4058.747566</td>\n",
       "      <td>716.249571</td>\n",
       "    </tr>\n",
       "    <tr>\n",
       "      <th>2021-11-15 00:00:00+00:00</th>\n",
       "      <td>3.373846</td>\n",
       "      <td>1.490747e+04</td>\n",
       "      <td>0.595385</td>\n",
       "      <td>2.630730e+03</td>\n",
       "      <td>10496.733059</td>\n",
       "      <td>1852.364657</td>\n",
       "    </tr>\n",
       "    <tr>\n",
       "      <th>2021-11-22 00:00:00+00:00</th>\n",
       "      <td>20.517692</td>\n",
       "      <td>8.716188e+04</td>\n",
       "      <td>3.620769</td>\n",
       "      <td>1.538151e+04</td>\n",
       "      <td>72254.406888</td>\n",
       "      <td>12750.777686</td>\n",
       "    </tr>\n",
       "    <tr>\n",
       "      <th>2021-11-29 00:00:00+00:00</th>\n",
       "      <td>45.350769</td>\n",
       "      <td>1.963947e+05</td>\n",
       "      <td>8.003077</td>\n",
       "      <td>3.465789e+04</td>\n",
       "      <td>109232.846258</td>\n",
       "      <td>19276.384634</td>\n",
       "    </tr>\n",
       "    <tr>\n",
       "      <th>...</th>\n",
       "      <td>...</td>\n",
       "      <td>...</td>\n",
       "      <td>...</td>\n",
       "      <td>...</td>\n",
       "      <td>...</td>\n",
       "      <td>...</td>\n",
       "    </tr>\n",
       "    <tr>\n",
       "      <th>2023-03-27 00:00:00+00:00</th>\n",
       "      <td>13132.826923</td>\n",
       "      <td>2.295747e+07</td>\n",
       "      <td>2317.557692</td>\n",
       "      <td>4.051318e+06</td>\n",
       "      <td>644911.712328</td>\n",
       "      <td>113807.949234</td>\n",
       "    </tr>\n",
       "    <tr>\n",
       "      <th>2023-04-03 00:00:00+00:00</th>\n",
       "      <td>13495.371538</td>\n",
       "      <td>2.363130e+07</td>\n",
       "      <td>2381.536154</td>\n",
       "      <td>4.170230e+06</td>\n",
       "      <td>673834.242994</td>\n",
       "      <td>118911.925234</td>\n",
       "    </tr>\n",
       "    <tr>\n",
       "      <th>2023-04-10 00:00:00+00:00</th>\n",
       "      <td>13861.786923</td>\n",
       "      <td>2.436122e+07</td>\n",
       "      <td>2446.197692</td>\n",
       "      <td>4.299039e+06</td>\n",
       "      <td>729918.657516</td>\n",
       "      <td>128809.174856</td>\n",
       "    </tr>\n",
       "    <tr>\n",
       "      <th>2023-04-17 00:00:00+00:00</th>\n",
       "      <td>14229.496923</td>\n",
       "      <td>2.508552e+07</td>\n",
       "      <td>2511.087692</td>\n",
       "      <td>4.426856e+06</td>\n",
       "      <td>724299.099871</td>\n",
       "      <td>127817.488213</td>\n",
       "    </tr>\n",
       "    <tr>\n",
       "      <th>2023-04-24 00:00:00+00:00</th>\n",
       "      <td>14597.206923</td>\n",
       "      <td>2.576880e+07</td>\n",
       "      <td>2575.977692</td>\n",
       "      <td>4.547435e+06</td>\n",
       "      <td>683277.814982</td>\n",
       "      <td>120578.437938</td>\n",
       "    </tr>\n",
       "  </tbody>\n",
       "</table>\n",
       "<p>78 rows × 6 columns</p>\n",
       "</div>"
      ],
      "text/plain": [
       "                              cumu_node  cumu_node_usd     cumu_rpl  \\\n",
       "day                                                                   \n",
       "2021-11-01 00:00:00+00:00      0.078462   3.519903e+02     0.013846   \n",
       "2021-11-08 00:00:00+00:00      0.941538   4.410738e+03     0.166154   \n",
       "2021-11-15 00:00:00+00:00      3.373846   1.490747e+04     0.595385   \n",
       "2021-11-22 00:00:00+00:00     20.517692   8.716188e+04     3.620769   \n",
       "2021-11-29 00:00:00+00:00     45.350769   1.963947e+05     8.003077   \n",
       "...                                 ...            ...          ...   \n",
       "2023-03-27 00:00:00+00:00  13132.826923   2.295747e+07  2317.557692   \n",
       "2023-04-03 00:00:00+00:00  13495.371538   2.363130e+07  2381.536154   \n",
       "2023-04-10 00:00:00+00:00  13861.786923   2.436122e+07  2446.197692   \n",
       "2023-04-17 00:00:00+00:00  14229.496923   2.508552e+07  2511.087692   \n",
       "2023-04-24 00:00:00+00:00  14597.206923   2.576880e+07  2575.977692   \n",
       "\n",
       "                           cumu_rpl_usd       node_usd        rpl_usd  \n",
       "day                                                                    \n",
       "2021-11-01 00:00:00+00:00  6.211594e+01     351.990308      62.115937  \n",
       "2021-11-08 00:00:00+00:00  7.783655e+02    4058.747566     716.249571  \n",
       "2021-11-15 00:00:00+00:00  2.630730e+03   10496.733059    1852.364657  \n",
       "2021-11-22 00:00:00+00:00  1.538151e+04   72254.406888   12750.777686  \n",
       "2021-11-29 00:00:00+00:00  3.465789e+04  109232.846258   19276.384634  \n",
       "...                                 ...            ...            ...  \n",
       "2023-03-27 00:00:00+00:00  4.051318e+06  644911.712328  113807.949234  \n",
       "2023-04-03 00:00:00+00:00  4.170230e+06  673834.242994  118911.925234  \n",
       "2023-04-10 00:00:00+00:00  4.299039e+06  729918.657516  128809.174856  \n",
       "2023-04-17 00:00:00+00:00  4.426856e+06  724299.099871  127817.488213  \n",
       "2023-04-24 00:00:00+00:00  4.547435e+06  683277.814982  120578.437938  \n",
       "\n",
       "[78 rows x 6 columns]"
      ]
     },
     "execution_count": 21,
     "metadata": {},
     "output_type": "execute_result"
    }
   ],
   "source": [
    "data_useful"
   ]
  },
  {
   "cell_type": "code",
   "execution_count": null,
   "id": "7af4b318-3c4e-4a8a-9b89-6a2fa7dd8f67",
   "metadata": {},
   "outputs": [],
   "source": []
  }
 ],
 "metadata": {
  "kernelspec": {
   "display_name": "Python 3 (ipykernel)",
   "language": "python",
   "name": "python3"
  },
  "language_info": {
   "codemirror_mode": {
    "name": "ipython",
    "version": 3
   },
   "file_extension": ".py",
   "mimetype": "text/x-python",
   "name": "python",
   "nbconvert_exporter": "python",
   "pygments_lexer": "ipython3",
   "version": "3.11.5"
  }
 },
 "nbformat": 4,
 "nbformat_minor": 5
}
